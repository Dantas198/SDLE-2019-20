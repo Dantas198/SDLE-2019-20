{
 "cells": [
  {
   "cell_type": "code",
   "execution_count": 1,
   "metadata": {},
   "outputs": [],
   "source": [
    "import networkx as nx\n",
    "import matplotlib.pyplot as plt\n",
    "import graphGen\n",
    "import simulator"
   ]
  },
  {
   "cell_type": "code",
   "execution_count": 3,
   "metadata": {
    "scrolled": true
   },
   "outputs": [
    {
     "name": "stdout",
     "output_type": "stream",
     "text": [
      "eager arrived\n",
      "1\n",
      "olol 2\n",
      "[(10, <nodes.EagerMessage object at 0x000001D0BA3C66C8>)]\n",
      "c_time:  0\n",
      "eager arrived\n",
      "3\n",
      "olol 0\n",
      "olol 8\n",
      "olol 4\n",
      "[(20, <nodes.EagerMessage object at 0x000001D0BA3C6448>), (20, <nodes.EagerMessage object at 0x000001D0BA3C69C8>), (20, <nodes.EagerMessage object at 0x000001D0BC4B2048>)]\n",
      "c_time:  10\n",
      "eager arrived\n",
      "2\n",
      "olol 7\n",
      "olol 2\n",
      "[(20, <nodes.EagerMessage object at 0x000001D0BA3C6448>), (20, <nodes.EagerMessage object at 0x000001D0BA3C69C8>), (30, <nodes.EagerMessage object at 0x000001D0BC4B2D88>), (30, <nodes.EagerMessage object at 0x000001D0BC4B22C8>)]\n",
      "c_time:  20\n",
      "eager arrived\n",
      "2\n",
      "olol 2\n",
      "olol 3\n",
      "[(20, <nodes.EagerMessage object at 0x000001D0BA3C6448>), (30, <nodes.EagerMessage object at 0x000001D0BC4B2D88>), (30, <nodes.EagerMessage object at 0x000001D0BC4B22C8>), (30, <nodes.EagerMessage object at 0x000001D0BC4B21C8>), (30, <nodes.EagerMessage object at 0x000001D0BC4B2548>)]\n",
      "c_time:  20\n",
      "eager arrived\n",
      "1\n",
      "eager arrived\n",
      "3\n",
      "olol 6\n",
      "olol 1\n",
      "olol 8\n",
      "[(30, <nodes.EagerMessage object at 0x000001D0BC4B2D88>), (30, <nodes.EagerMessage object at 0x000001D0BC4B22C8>), (30, <nodes.EagerMessage object at 0x000001D0BC4B21C8>), (40, <nodes.EagerMessage object at 0x000001D0BA3C6C88>), (40, <nodes.EagerMessage object at 0x000001D0BC4B2F48>), (40, <nodes.EagerMessage object at 0x000001D0BC4B2D08>)]\n",
      "c_time:  30\n",
      "eager arrived\n",
      "3\n",
      "eager arrived\n",
      "3\n",
      "eager arrived\n",
      "1\n",
      "olol 4\n",
      "[(40, <nodes.EagerMessage object at 0x000001D0BA3C6C88>), (40, <nodes.EagerMessage object at 0x000001D0BC4B2F48>), (40, <nodes.EagerMessage object at 0x000001D0BC4B2D08>), (40, <nodes.EagerMessage object at 0x000001D0BC4B2E88>)]\n",
      "c_time:  30\n",
      "eager arrived\n",
      "2\n",
      "eager arrived\n",
      "2\n",
      "eager arrived\n",
      "2\n",
      "olol 5\n",
      "olol 3\n",
      "[(40, <nodes.EagerMessage object at 0x000001D0BA3C6C88>), (50, <nodes.EagerMessage object at 0x000001D0BC4B2208>), (50, <nodes.EagerMessage object at 0x000001D0BA2D4888>)]\n",
      "c_time:  40\n",
      "eager arrived\n",
      "2\n",
      "olol 3\n",
      "olol 5\n",
      "[(50, <nodes.EagerMessage object at 0x000001D0BC4B2208>), (50, <nodes.EagerMessage object at 0x000001D0BA2D4888>), (50, <nodes.EagerMessage object at 0x000001D0B18EDA08>), (50, <nodes.EagerMessage object at 0x000001D0BA1E52C8>)]\n",
      "c_time:  40\n",
      "eager arrived\n",
      "3\n",
      "olol 9\n",
      "olol 1\n",
      "olol 6\n",
      "[(50, <nodes.EagerMessage object at 0x000001D0BC4B2208>), (50, <nodes.EagerMessage object at 0x000001D0BA2D4888>), (50, <nodes.EagerMessage object at 0x000001D0B18EDA08>), (60, <nodes.EagerMessage object at 0x000001D0BC4BDF88>), (60, <nodes.EagerMessage object at 0x000001D0BC4BDAC8>), (60, <nodes.EagerMessage object at 0x000001D0BC4BD988>)]\n",
      "c_time:  50\n",
      "eager arrived\n",
      "3\n",
      "eager arrived\n",
      "3\n",
      "eager arrived\n",
      "3\n",
      "eager arrived\n",
      "2\n",
      "eager arrived\n",
      "2\n",
      "eager arrived\n",
      "1\n",
      "olol 5\n",
      "[(70, <nodes.EagerMessage object at 0x000001D0BC4BDAC8>)]\n",
      "c_time:  60\n",
      "eager arrived\n",
      "3\n",
      "finished in:  70\n"
     ]
    },
    {
     "data": {
      "image/png": "[encoded data removed]",
      "text/plain": [
       "<Figure size 432x288 with 1 Axes>"
      ]
     },
     "metadata": {},
     "output_type": "display_data"
    }
   ],
   "source": [
    "if __name__ == '__main__': \n",
    "    G = graphGen.randomG(10,10)\n",
    "    nodes, distances = simulator.connector(G, 'timeout', fanout=0)\n",
    "    sim = simulator.Sim(nodes, distances)\n",
    "    t = sim.start(0, \"diz olá\")\n",
    "    print(\"finished in: \",  t)\n",
    "    nx.draw(G, with_labels=True)\n",
    "    plt.show()"
   ]
  },
  {
   "cell_type": "code",
   "execution_count": null,
   "metadata": {},
   "outputs": [],
   "source": []
  }
 ],
 "metadata": {
  "kernelspec": {
   "display_name": "Python 3",
   "language": "python",
   "name": "python3"
  },
  "language_info": {
   "codemirror_mode": {
    "name": "ipython",
    "version": 3
   },
   "file_extension": ".py",
   "mimetype": "text/x-python",
   "name": "python",
   "nbconvert_exporter": "python",
   "pygments_lexer": "ipython3",
   "version": "3.7.6"
  }
 },
 "nbformat": 4,
 "nbformat_minor": 2
}
